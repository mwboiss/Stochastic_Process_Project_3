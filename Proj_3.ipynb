{
 "cells": [
  {
   "cell_type": "markdown",
   "id": "ebea8ca8-065c-4faa-81f6-6f7417621c80",
   "metadata": {
    "tags": []
   },
   "source": [
    "# Problem 44\n",
    "## Introduction to Probability Models Twelfth Edition \n",
    "### by Sheldon M. Ross\n",
    "#### Page 283 "
   ]
  },
  {
   "cell_type": "markdown",
   "id": "8efe10a2-0a57-44aa-9125-88e6764d8d75",
   "metadata": {
    "tags": []
   },
   "source": [
    "##### Imports"
   ]
  },
  {
   "cell_type": "code",
   "execution_count": 49,
   "id": "c7618c81-28a8-4d9c-bf19-9f2154f454b3",
   "metadata": {},
   "outputs": [],
   "source": [
    "import pandas as pd\n",
    "import numpy as np\n",
    "\n",
    "from math import comb\n",
    "import random\n",
    "\n",
    "import matplotlib.pyplot as plt\n",
    "import seaborn as sns"
   ]
  },
  {
   "cell_type": "markdown",
   "id": "913e55b2-dfdc-4fc1-8604-42707f0712b1",
   "metadata": {
    "tags": []
   },
   "source": [
    "### Problem Introduciton"
   ]
  },
  {
   "cell_type": "markdown",
   "id": "dd5cc335-2060-47dd-9f3f-aada5186b2a8",
   "metadata": {
    "tags": []
   },
   "source": [
    "Suppose that a population consists of a fixed number, say, *m*, of genes in any generation. Each gene is one of two possible genetic types. \n",
    "\n",
    "If exactly *i* (of the *m*) genes of **any** generation are of type 1, then the next generation will have      *j* type 1 (and *m*-*j* type 2) genes with probability:\n",
    "\n",
    "$\\binom{m}{j} \\left(\\frac{i}{m}\\right)^j \\left(\\frac{m-i}{m}\\right)^{m-j}$ , *j* = 0, 1, 2,....., *m*\n",
    "\n",
    "Let $\\mathbb{X_n}$ denote the number of type 1 genes in the *n*th generation, and assume that   $\\mathbb{X_0}$ = *i*.\n",
    "\n",
    "(a) Find $\\mathbb{E}[\\mathbb{X}_n]$\n",
    "\n",
    "(b) What is the probability that eventually all the genes will be type 1?\n",
    "\n",
    "(c) Simulate the Markov chain for some specific values of m."
   ]
  },
  {
   "cell_type": "markdown",
   "id": "3508f15f-d0df-4114-b044-81fdff8466b3",
   "metadata": {
    "tags": []
   },
   "source": [
    "### Ideas to note"
   ]
  },
  {
   "cell_type": "markdown",
   "id": "3f231e4e-7644-4879-b23a-0b10cb3deb09",
   "metadata": {
    "tags": []
   },
   "source": [
    "#### Binomial Distribution"
   ]
  },
  {
   "cell_type": "markdown",
   "id": "5e5ea4ae-500f-4081-a12b-05d78ffd5b16",
   "metadata": {},
   "source": [
    "The probability formula above is the probability mass function of a binomial random variable with parameters (*n*, *p*). \n",
    "\n",
    "*n* being the number of independent trials or generations in our case, while p is the probability of success. \n",
    "\n",
    "$p(i) = \\binom{n}{i} p^i (1-p)^{n-i}$ , *i* = 0, 1, 2,...., *n* "
   ]
  },
  {
   "cell_type": "markdown",
   "id": "eb05706b-c95c-4031-ac2b-2eecba3dd690",
   "metadata": {},
   "source": [
    "In our case:\n",
    "\n",
    "$\\binom{n}{i} = \\binom{m}{j}$ or number of different groups of *j* can be chosen from a set of *m* objects\n",
    "\n",
    "$p^i$ = $\\left(\\frac{i}{m}\\right)^j$ or probability of success\n",
    "\n",
    "$\\left(1 - p\\right)^{n - i}$ = $\\left(\\frac{m-i}{m}\\right)^{m - j}$ = $\\left(\\frac{m}{m}-\\frac{i}{m}\\right)^{m-j}$ = $\\left(1 - \\frac{i}{m}\\right)^{m-j}$ or probability of failure\n",
    "\n",
    "We can then say this is a random variable with a binomial distribution where p = $\\frac{i}{m}$"
   ]
  },
  {
   "cell_type": "markdown",
   "id": "825e666d-28b9-4f4e-b0f5-12b8562a0387",
   "metadata": {
    "tags": []
   },
   "source": [
    "#### Gambler's Ruin Similarities"
   ]
  },
  {
   "cell_type": "markdown",
   "id": "cfeb0ec8-e822-4d79-ade2-6a12e8a9d9b5",
   "metadata": {},
   "source": [
    "The problem states that \"If exactly *i* (of the *m*) of *any* generation are of type 1, then the next generation will have *j* type 1 genes\". \n",
    "\n",
    "If our current state *i* = *m* then all of the genes are of type 1.\n",
    "\n",
    "- Probability of failure or probability we get a type two gene when *i* = *m*: $\\left(\\frac{i - m}{m}\\right)^{m - j}$ = $\\left(\\frac{m - m}{m}\\right)^{m - j}$ = $\\left(\\frac{0}{m}\\right)^{m - j}$ = 0\n",
    "\n",
    "\n",
    "If *i* = 0 then all of the genes are of type 2. \n",
    "\n",
    "- Probability of success or probability we get a type one gene when *i* = 0: $\\left(\\frac{i}{m}\\right)^j$ = $\\left(\\frac{0}{m}\\right)^j$ = 0 \n",
    "\n",
    "We can make the assumption that if we were to reach 0 type 1's or *m* type 1's we have reached an absorption state. "
   ]
  },
  {
   "cell_type": "markdown",
   "id": "c6f825bd-83e2-40ce-8b91-8c9b97d7334b",
   "metadata": {
    "tags": []
   },
   "source": [
    "#### Transition Matrix "
   ]
  },
  {
   "cell_type": "markdown",
   "id": "0582ba19-2117-48d8-b5c8-a69baa7ac89b",
   "metadata": {},
   "source": [
    "$P(\\mathbb{X}_{n+1} = j|\\mathbb{X}_n = i) = \\binom{m}{j} \\left(\\frac{i}{m}\\right)^j \\left(\\frac{i-m}{m}\\right)^{m-j}$\n",
    "\n",
    "We have three classes {0}, {1,2,...*m*-1}, and {*m*} "
   ]
  },
  {
   "cell_type": "markdown",
   "id": "486a1638-e49b-43a5-b68c-d415b8fe8c3f",
   "metadata": {
    "tags": []
   },
   "source": [
    "## Solutions"
   ]
  },
  {
   "cell_type": "markdown",
   "id": "6ca44008-7ece-4633-bcf7-cdd944cc89c9",
   "metadata": {
    "tags": []
   },
   "source": [
    "### (a) Find $\\mathbb{E}[\\mathbb{X}_n]$"
   ]
  },
  {
   "cell_type": "markdown",
   "id": "9a54192f-43eb-4fdc-bd38-4ce635b7047a",
   "metadata": {},
   "source": [
    "*** Wrong????? ****\n",
    "Expected value would be the sum from j to m of m choose j times probability of j"
   ]
  },
  {
   "cell_type": "markdown",
   "id": "92322d45-ac82-4a17-b17c-271b964322f2",
   "metadata": {},
   "source": [
    "Branching process with a fixed population size"
   ]
  },
  {
   "cell_type": "markdown",
   "id": "88397b01-5714-4447-991a-45c379d92e71",
   "metadata": {},
   "source": [
    "expected_value = expected value of expected value of Xn given Xn-1 ?????"
   ]
  },
  {
   "cell_type": "code",
   "execution_count": null,
   "id": "6a5cee6b-f98b-4b73-afd9-8cf27468b6a4",
   "metadata": {},
   "outputs": [],
   "source": []
  },
  {
   "cell_type": "code",
   "execution_count": null,
   "id": "d5bde7b9-39a2-41a6-8934-a0dc9449a8ad",
   "metadata": {},
   "outputs": [],
   "source": []
  },
  {
   "cell_type": "markdown",
   "id": "330d6659-cd0b-41c5-aa8a-b5982969f0a3",
   "metadata": {
    "tags": []
   },
   "source": [
    "### (b) What is the probability that eventually all genes will be type 1?"
   ]
  },
  {
   "cell_type": "markdown",
   "id": "883b1664-7bcf-451a-96d7-a0ba37927217",
   "metadata": {
    "tags": []
   },
   "source": [
    "#### Fixation"
   ]
  },
  {
   "cell_type": "markdown",
   "id": "a3ff6960-ab26-461f-b36e-aa4b968c2341",
   "metadata": {},
   "source": [
    "In population genetics, fixation is where a population has two variants of a particular gene and over time only one gene remains."
   ]
  },
  {
   "cell_type": "markdown",
   "id": "cbf040a7-e454-4b05-bebc-1e2b74befb9c",
   "metadata": {},
   "source": [
    "#### Solution"
   ]
  },
  {
   "cell_type": "markdown",
   "id": "bb8701a9-7637-4364-a1c3-f6338b4d2477",
   "metadata": {},
   "source": [
    "cdf as j approaches m ???????????"
   ]
  },
  {
   "cell_type": "markdown",
   "id": "fe5801d2-50b9-4639-86bc-4503cba3286c",
   "metadata": {
    "tags": []
   },
   "source": [
    "### (c) Simulate the Markov Chain for some specific values of m."
   ]
  },
  {
   "cell_type": "code",
   "execution_count": null,
   "id": "32999035-cecd-4860-89a7-2bf118b066d3",
   "metadata": {},
   "outputs": [],
   "source": [
    "m = 100\n",
    "i = 1\n",
    "p = i/m\n",
    "prob_j = np.random.binomial(m,p)\n",
    "\n"
   ]
  },
  {
   "cell_type": "markdown",
   "id": "51ab0aa6-e38d-4524-9dfa-0989b938e5a1",
   "metadata": {
    "tags": []
   },
   "source": [
    "# Ideas"
   ]
  },
  {
   "cell_type": "code",
   "execution_count": 46,
   "id": "ebd2d3d5-4fa6-4917-a10b-379b812c8f5a",
   "metadata": {},
   "outputs": [],
   "source": [
    "m = 100\n",
    "i = 0\n",
    "prob_j_list = []\n",
    "expected_value = 0\n",
    "for j in list(range(0, m + 1)): \n",
    "    prob_j = comb(m,j) * (i/m)**j * ((m-i)/m)**(m-j)\n",
    "    prob_j_list.append(prob_j)\n",
    "    expected_value += (comb(m,j) * prob_j)\n",
    "    i = j"
   ]
  },
  {
   "cell_type": "code",
   "execution_count": 57,
   "id": "a8d0e9de-3d55-4a13-ba20-013e77dcc0b0",
   "metadata": {},
   "outputs": [],
   "source": [
    "# prob_j_list"
   ]
  },
  {
   "cell_type": "code",
   "execution_count": 58,
   "id": "8cd6827e-ee0e-44d6-9b36-bff6075dab78",
   "metadata": {},
   "outputs": [],
   "source": [
    "# expected_value"
   ]
  },
  {
   "cell_type": "code",
   "execution_count": null,
   "id": "444d5cd5-e646-4855-90e4-611ee95e1ea9",
   "metadata": {},
   "outputs": [],
   "source": []
  },
  {
   "cell_type": "code",
   "execution_count": null,
   "id": "3c611c36-d1f1-4c61-89a9-101bb8c889e7",
   "metadata": {},
   "outputs": [],
   "source": []
  },
  {
   "cell_type": "code",
   "execution_count": null,
   "id": "f8cc5543-d55b-44b8-b1e7-358df47d9178",
   "metadata": {},
   "outputs": [],
   "source": []
  },
  {
   "cell_type": "code",
   "execution_count": null,
   "id": "f65c4ca9-b4b1-4dd0-b419-5b5a8ae756c9",
   "metadata": {},
   "outputs": [],
   "source": []
  },
  {
   "cell_type": "code",
   "execution_count": null,
   "id": "0fb849d1-3a73-413b-9287-052734c772ce",
   "metadata": {},
   "outputs": [],
   "source": []
  },
  {
   "cell_type": "code",
   "execution_count": null,
   "id": "08996c76-41f8-4977-adaf-dcacfb03f137",
   "metadata": {},
   "outputs": [],
   "source": []
  },
  {
   "cell_type": "code",
   "execution_count": null,
   "id": "f75a4535-db84-4048-8bb8-50dc3016db7a",
   "metadata": {},
   "outputs": [],
   "source": []
  },
  {
   "cell_type": "code",
   "execution_count": null,
   "id": "3fcbe75e-3646-4103-b43f-319db2df366e",
   "metadata": {},
   "outputs": [],
   "source": []
  },
  {
   "cell_type": "code",
   "execution_count": null,
   "id": "e2d259ca-ae5f-48fc-82db-4cc2dc741025",
   "metadata": {},
   "outputs": [],
   "source": []
  },
  {
   "cell_type": "code",
   "execution_count": null,
   "id": "58750879-4df9-41f9-b496-f15e26e3194f",
   "metadata": {},
   "outputs": [],
   "source": []
  },
  {
   "cell_type": "code",
   "execution_count": null,
   "id": "69ffb920-ae25-45a3-b296-3cb8b7432f78",
   "metadata": {},
   "outputs": [],
   "source": []
  },
  {
   "cell_type": "code",
   "execution_count": null,
   "id": "6fcbdf15-aa51-432a-9393-773ae0e77584",
   "metadata": {},
   "outputs": [],
   "source": []
  }
 ],
 "metadata": {
  "kernelspec": {
   "display_name": "Python 3 (ipykernel)",
   "language": "python",
   "name": "python3"
  },
  "language_info": {
   "codemirror_mode": {
    "name": "ipython",
    "version": 3
   },
   "file_extension": ".py",
   "mimetype": "text/x-python",
   "name": "python",
   "nbconvert_exporter": "python",
   "pygments_lexer": "ipython3",
   "version": "3.9.7"
  }
 },
 "nbformat": 4,
 "nbformat_minor": 5
}
